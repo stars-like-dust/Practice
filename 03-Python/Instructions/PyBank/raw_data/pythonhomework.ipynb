{
 "cells": [
  {
   "cell_type": "code",
   "execution_count": 12,
   "metadata": {},
   "outputs": [],
   "source": [
    "#Import Dependencies\n",
    "\n",
    "import os\n",
    "import csv"
   ]
  },
  {
   "cell_type": "code",
   "execution_count": 13,
   "metadata": {},
   "outputs": [],
   "source": [
    "#Import budget data csv as read. \n",
    "\n",
    "Budget_data_2 = os.path.join(\"budget_data_1.csv\")\n",
    "with open(Budget_data_2,'r'):  \n",
    "\n",
    "  \n",
    "    with open(Budget_data_2, newline=\"\") as csvfile:\n",
    "        csvreader = csv.reader(csvfile, delimiter=\",\")\n",
    "        next(csvreader)\n",
    "        "
   ]
  },
  {
   "cell_type": "code",
   "execution_count": 14,
   "metadata": {},
   "outputs": [
    {
     "ename": "IndentationError",
     "evalue": "unexpected indent (<ipython-input-14-33a11f3a8b42>, line 6)",
     "output_type": "error",
     "traceback": [
      "\u001b[0;36m  File \u001b[0;32m\"<ipython-input-14-33a11f3a8b42>\"\u001b[0;36m, line \u001b[0;32m6\u001b[0m\n\u001b[0;31m    num_lines = 0\u001b[0m\n\u001b[0m    ^\u001b[0m\n\u001b[0;31mIndentationError\u001b[0m\u001b[0;31m:\u001b[0m unexpected indent\n"
     ]
    }
   ],
   "source": [
    "\n",
    "#Lets try a for loop and while loop\n",
    "\n",
    "    for row in csvreader:\n",
    "            Date, Revenue = row\n",
    "\n",
    "        num_lines = 0\n",
    "\n",
    "            with open(Budget_data_2, newline=\"\") as csvfile:\n",
    "            csvreader = csv.reader(csvfile, delimiter=\",\")\n",
    "            #uncounts header\n",
    "            next(csvreader)\n",
    "        \n",
    "            keyword = 201\n",
    "        \n",
    "            count = 0\n",
    "        \n",
    "    for line in csvreader:\n",
    "            while True:\n",
    "                if keyword not in line:\n",
    "                    continue\n",
    "                else:\n",
    "                    break\n",
    "            count = count + 1\n",
    "        print(count)\n",
    "            "
   ]
  },
  {
   "cell_type": "code",
   "execution_count": null,
   "metadata": {},
   "outputs": [],
   "source": [
    "# Lets try some arrays\n",
    "        \n",
    "        dates = []\n",
    "        revenue = []\n",
    "        \n",
    "        for row in csvreader:\n",
    "            dates = row[0]\n",
    "            revenue = row[1]\n",
    "            \n",
    "            dates.append(dates)\n",
    "            revenue.append(revenue)\n",
    "           \n",
    "           print(revenue)\n",
    "\n",
    "\n"
   ]
  },
  {
   "cell_type": "code",
   "execution_count": null,
   "metadata": {},
   "outputs": [],
   "source": [
    "with open(output_path, 'w', newline= 'budget_output.csv') as csvfile:"
   ]
  },
  {
   "cell_type": "code",
   "execution_count": null,
   "metadata": {},
   "outputs": [],
   "source": []
  }
 ],
 "metadata": {
  "kernelspec": {
   "display_name": "Python 3",
   "language": "python",
   "name": "python3"
  },
  "language_info": {
   "codemirror_mode": {
    "name": "ipython",
    "version": 3
   },
   "file_extension": ".py",
   "mimetype": "text/x-python",
   "name": "python",
   "nbconvert_exporter": "python",
   "pygments_lexer": "ipython3",
   "version": "3.6.4"
  }
 },
 "nbformat": 4,
 "nbformat_minor": 2
}
