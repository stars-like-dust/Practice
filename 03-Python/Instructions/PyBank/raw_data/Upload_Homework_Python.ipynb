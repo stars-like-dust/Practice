{
 "cells": [
  {
   "cell_type": "code",
   "execution_count": 49,
   "metadata": {
    "scrolled": true
   },
   "outputs": [
    {
     "name": "stdout",
     "output_type": "stream",
     "text": [
      "Financial Analysis\n",
      "-----------------------------\n",
      "Total Months: 41\n",
      "Total Revenue: $ 18971412.0\n",
      "Avereage Revenue Change: $ -6759\n",
      "Greatest Increase in Revenue: Jan-16 ($ 1837235.0 )\n",
      "Greatest Decrease in Revenue: Jul-14 ($ -1779747.0 )\n"
     ]
    }
   ],
   "source": [
    "\n",
    "import os\n",
    "import csv\n",
    "\n",
    "# Files to load (Remember to change these)\n",
    "file_to_load = \"raw_data/budget_data_2.csv\"\n",
    "\n",
    "\n",
    "##Hey I am printing something!\n",
    "\n",
    "Budget_data_2 = os.path.join(\"budget_data_1.csv\")\n",
    "\n",
    "with open(Budget_data_2,'r'):\n",
    "    \n",
    "    with open(Budget_data_2, newline=\"\") as csvfile:\n",
    "        csvreader = csv.reader(csvfile, delimiter=\",\")\n",
    "        #uncounts header\n",
    "        next(csvreader)\n",
    "\n",
    "\n",
    "        \n",
    "        #next(reader) \n",
    "        revenue = []\n",
    "        date = []\n",
    "        rev_change = []\n",
    "\n",
    "        # sum the column\n",
    "   \n",
    "        for row in csvreader:\n",
    "    \n",
    "            revenue.append(float(row[1]))\n",
    "            date.append(row[0])\n",
    "\n",
    "    print(\"Financial Analysis\")\n",
    "    print(\"-----------------------------\")\n",
    "    print(\"Total Months:\", len(date))\n",
    "    print(\"Total Revenue: $\", sum(revenue))\n",
    "    \n",
    "    for i in range(1,len(revenue)):\n",
    "            rev_change.append(revenue[i] - revenue[i-1])   \n",
    "            avg_rev_change = sum(rev_change)/len(rev_change)\n",
    "\n",
    "            max_rev_change = max(rev_change)\n",
    "    \n",
    "            min_rev_change = min(rev_change)\n",
    "        \n",
    "            max_rev_change_date = str(date[rev_change.index(max(rev_change))])\n",
    "            min_rev_change_date = str(date[rev_change.index(min(rev_change))])\n",
    "\n",
    "\n",
    "    print(\"Avereage Revenue Change: $\", round(avg_rev_change))\n",
    "    print(\"Greatest Increase in Revenue:\", max_rev_change_date,\"($\", max_rev_change,\")\")\n",
    "    print(\"Greatest Decrease in Revenue:\", min_rev_change_date,\"($\", min_rev_change,\")\")\n",
    "\n",
    "\n",
    "  \n",
    "    \n",
    "    f = open('Budget.txt','w')\n",
    "    f.write('output')\n",
    "    f.close() \n",
    "        "
   ]
  },
  {
   "cell_type": "code",
   "execution_count": null,
   "metadata": {},
   "outputs": [],
   "source": [
    "\n",
    "\n",
    "\n",
    "   \n",
    "\n"
   ]
  },
  {
   "cell_type": "code",
   "execution_count": null,
   "metadata": {},
   "outputs": [],
   "source": []
  }
 ],
 "metadata": {
  "kernelspec": {
   "display_name": "Python 3",
   "language": "python",
   "name": "python3"
  },
  "language_info": {
   "codemirror_mode": {
    "name": "ipython",
    "version": 3
   },
   "file_extension": ".py",
   "mimetype": "text/x-python",
   "name": "python",
   "nbconvert_exporter": "python",
   "pygments_lexer": "ipython3",
   "version": "3.6.4"
  }
 },
 "nbformat": 4,
 "nbformat_minor": 2
}
