{
 "cells": [
  {
   "cell_type": "code",
   "execution_count": 8,
   "metadata": {},
   "outputs": [],
   "source": [
    "import os\n",
    "\n",
    "##Hey I am printing something!\n",
    "\n",
    "import csv\n",
    "\n",
    "election_1 = os.path.join(\"election_data_1.csv\")\n",
    "\n",
    "with open(election_1,'r'):\n",
    "    \n",
    "    with open(election_1, newline=\"\") as csvfile:\n",
    "        csvreader = csv.reader(csvfile, delimiter=\",\")\n",
    "        #uncounts header\n",
    "        next(csvreader)\n",
    "        \n",
    "        for row in csvreader:\n",
    "            #Creates variables in rows\n",
    "            VoterID,County,Candidate = row\n",
    "            #print(VoterID)\n",
    "            \n",
    "            for row in VoterID:\n",
    "                VoterID = VoterID + VoterID "
   ]
  },
  {
   "cell_type": "code",
   "execution_count": null,
   "metadata": {},
   "outputs": [],
   "source": []
  },
  {
   "cell_type": "code",
   "execution_count": null,
   "metadata": {},
   "outputs": [],
   "source": []
  }
 ],
 "metadata": {
  "kernelspec": {
   "display_name": "Python 3",
   "language": "python",
   "name": "python3"
  },
  "language_info": {
   "codemirror_mode": {
    "name": "ipython",
    "version": 3
   },
   "file_extension": ".py",
   "mimetype": "text/x-python",
   "name": "python",
   "nbconvert_exporter": "python",
   "pygments_lexer": "ipython3",
   "version": "3.6.4"
  }
 },
 "nbformat": 4,
 "nbformat_minor": 2
}
