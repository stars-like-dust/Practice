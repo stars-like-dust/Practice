{
 "cells": [
  {
   "cell_type": "code",
   "execution_count": 2,
   "metadata": {},
   "outputs": [
    {
     "ename": "SyntaxError",
     "evalue": "invalid syntax (<ipython-input-2-dfed5ce206d2>, line 19)",
     "output_type": "error",
     "traceback": [
      "\u001b[0;36m  File \u001b[0;32m\"<ipython-input-2-dfed5ce206d2>\"\u001b[0;36m, line \u001b[0;32m19\u001b[0m\n\u001b[0;31m    total_votes = 0\u001b[0m\n\u001b[0m              ^\u001b[0m\n\u001b[0;31mSyntaxError\u001b[0m\u001b[0;31m:\u001b[0m invalid syntax\n"
     ]
    }
   ],
   "source": [
    "import os\n",
    "\n",
    "##Hey I am printing something!\n",
    "\n",
    "import csv\n",
    "\n",
    "election_1 = os.path.join(\"election_data_1.csv\")\n",
    "\n",
    "with open(election_1,'r'):\n",
    "    \n",
    "    with open(election_1, newline=\"\") as csvfile:\n",
    "        csvreader = csv.reader(csvfile, delimiter=\",\")\n",
    "        #uncounts header\n",
    "        next(csvreader)\n",
    "\n",
    "row_count = sum(1 for line in open(file_to_load))\n",
    "voter_count = row_count - 1\n",
    "print(f\"{voter_count:,d}\"\n",
    "total_votes = 0\n",
    "candidate_options = []\n",
    "candidate_votes = {}\n",
    "with open(file_to_load) as election_data_1:\n",
    "    reader = csv.reader(election_data_1)\n",
    "    header = next(reader)\n",
    "    for row in reader:\n",
    "        \n",
    "        total_votes = total_votes + 1\n",
    "        candidate_name = row[2]\n",
    "        if candidate_name not in candidate_options:\n",
    "            candidate_options.append(candidate_name)\n",
    "            candidate_votes[candidate_name] = 0\n",
    "        candidate_votes[candidate_name] = candidate_votes[candidate_name] + 1\n",
    "print(candidate_votes) \n",
    "print(candidate_options)\n",
    "print(total_votes)"
   ]
  },
  {
   "cell_type": "code",
   "execution_count": null,
   "metadata": {},
   "outputs": [],
   "source": []
  }
 ],
 "metadata": {
  "kernelspec": {
   "display_name": "Python 3",
   "language": "python",
   "name": "python3"
  },
  "language_info": {
   "codemirror_mode": {
    "name": "ipython",
    "version": 3
   },
   "file_extension": ".py",
   "mimetype": "text/x-python",
   "name": "python",
   "nbconvert_exporter": "python",
   "pygments_lexer": "ipython3",
   "version": "3.6.4"
  }
 },
 "nbformat": 4,
 "nbformat_minor": 2
}
